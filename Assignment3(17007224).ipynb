{
 "cells": [
  {
   "cell_type": "markdown",
   "metadata": {},
   "source": [
    " # KF7032 Assignment Part 3\n",
    "- Name: Lee Walton\n",
    "- Student Number: 17007224\n",
    "- Course: (MComp) Computer Science with Web Development\n",
    "\n",
    "Datasets Used: all_crimes18_hdr.txt.gz and LSOA_pop_v2.csv"
   ]
  },
  {
   "cell_type": "markdown",
   "metadata": {},
   "source": [
    "## Introduction\n",
    "This big data report is on crime in the UK specifically violent crimes and drugs. The report will be evaluating claims made in a television documentary \"Ross Kemp and the Armed Police\" broadcast on ITV 6th September 2018. \n",
    "The claims were:\n",
    "\n",
    "1. Violent Crime is increasing\n",
    "2. There are more firearms incidents per head in Birmingham than anywhere else in the UK\n",
    "3. Crimes involving firearms are closely associated with drugs offences\n",
    "\n",
    "In the documentary Ross Kemp speaks to a group of individuals from one of the biggest gangs in Birmingham who disclose that they first handled guns at the age of 15 and that there are some children these days are a lot younger when they first get involved in gun crime. Another gang member also discloses that they can get access to a gun within a quarter of an hour with just one phone call (Ross Kemp and The Armed Police, 2018).\n",
    "\n",
    "Crime analysis is an important process so that the government and police forces can maintain law and order (Jain and Bhatnagar, 2016). Being able to process large amounts of data to extract meaningful information (Jain and Bhatnagar, 2016), means that specific crime types can become the target of enforcement strategies if they are identified as areas of concern. Furthermore, by including location-based data and aggregating data on location the allocation of police forces can be carefully planned to increase in areas that have more demand for officers. \n",
    "\n",
    "To solve this problem multiple techniques will have to be used to derive the statistics from the raw dataset. Python Spark with data frames and the Pandas library will be used to solve the problem. Each of the statements will then be answered using Spark SQL functions such as groupBy, count, select and multiple statistical methods. Visualisation techniques such as bar charts to display values, time series graphs to show change in crime over time and scatter plots to demonstrate reltionships between crimes wil be used throughout the report. Correlation will also be used to measure the extent of relation between crime types or crime and population (Nolan, 2004). Using a combination of these data aggregation, visualisation, and statistical methods all three statements can be analysed."
   ]
  },
  {
   "cell_type": "markdown",
   "metadata": {},
   "source": [
    "### Configuration and imports\n",
    "First we must import the main libaries being used such as pandas, pyspark and numpy. Then we must set the spark context and spark session before we make any dataframes or attempt to use any functions."
   ]
  },
  {
   "cell_type": "code",
   "execution_count": 1,
   "metadata": {},
   "outputs": [],
   "source": [
    "##import statements\n",
    "import pyspark #pyspark\n",
    "from pyspark import SparkContext, SparkConf #config and context\n",
    "import pyspark.sql.functions as func #built in dataframe functions"
   ]
  },
  {
   "cell_type": "code",
   "execution_count": 2,
   "metadata": {},
   "outputs": [],
   "source": [
    "try:\n",
    "    conf = SparkConf().setMaster(\"local\").setAppName(\"assignment3\") #config\n",
    "    sc = SparkContext(conf = conf) #context run once\n",
    "except:\n",
    "    print(\"Spark context allready exists\")"
   ]
  },
  {
   "cell_type": "code",
   "execution_count": 3,
   "metadata": {},
   "outputs": [
    {
     "data": {
      "text/html": [
       "\n",
       "        <div>\n",
       "            <p><b>SparkContext</b></p>\n",
       "\n",
       "            <p><a href=\"http://41e725ab67a6:4040\">Spark UI</a></p>\n",
       "\n",
       "            <dl>\n",
       "              <dt>Version</dt>\n",
       "                <dd><code>v3.0.1</code></dd>\n",
       "              <dt>Master</dt>\n",
       "                <dd><code>local</code></dd>\n",
       "              <dt>AppName</dt>\n",
       "                <dd><code>assignment3</code></dd>\n",
       "            </dl>\n",
       "        </div>\n",
       "        "
      ],
      "text/plain": [
       "<SparkContext master=local appName=assignment3>"
      ]
     },
     "execution_count": 3,
     "metadata": {},
     "output_type": "execute_result"
    }
   ],
   "source": [
    "sc #check context"
   ]
  },
  {
   "cell_type": "code",
   "execution_count": 4,
   "metadata": {},
   "outputs": [],
   "source": [
    "##sql context\n",
    "from pyspark.sql import SQLContext\n",
    "sqlCtx = SQLContext(sc)"
   ]
  },
  {
   "cell_type": "code",
   "execution_count": 5,
   "metadata": {},
   "outputs": [],
   "source": [
    "##setup spark session\n",
    "from pyspark.sql import SparkSession\n",
    "spark = SparkSession\\\n",
    ".builder\\\n",
    ".appName(\"Assignment Notebook\")\\\n",
    ".config(\"spark.some.config.option\", \"some-value\")\\\n",
    ".getOrCreate()"
   ]
  },
  {
   "cell_type": "code",
   "execution_count": 6,
   "metadata": {},
   "outputs": [],
   "source": [
    "%matplotlib inline #show graphs in notebook"
   ]
  },
  {
   "cell_type": "code",
   "execution_count": 7,
   "metadata": {},
   "outputs": [],
   "source": [
    "#import pandas\n",
    "import pandas as pd\n",
    "\n",
    "#import numpy and pyplot\n",
    "import numpy as np\n",
    "from pyspark.mllib.stat import Statistics\n",
    "import matplotlib.pyplot as plt"
   ]
  },
  {
   "cell_type": "markdown",
   "metadata": {},
   "source": [
    "### Import and parse datasets\n",
    "\n",
    "We must link the data files and load their content into variables and create functions to parse the required fields. One function below is used to remove the header row (if needed) and can be called with the datafile as input. This will be done prior to creating a data frame.\n",
    "\n",
    "Parse Crime is a function to parse the crime dataset the fields ‘Month’, ‘LSOA’ and ‘CrimeType’ are selected as the required fields. Month is needed for any time series graph to answer time related questions and LSOA to join the population dataset. Finally, the crime type is required so that we can filter by the correct crime types to answer the 3 statements as referred to in the introduction. \n",
    "\n",
    "Parsepop is the function to parse the population LSOA dataset. From which we extract the columns ‘Geography’, ‘GeographyCode’ and ‘Variable: All usual residents’. Geography code links to LSOA code which is a regional code used to identify regions of the UK this will be used to join the crime dataset to the population dataset. Geography contains the Local Authority (region) Name and partial code this field is needed to get the area name however when parsed, it is important to remove the code from this field so that the identifying region name only remains. To do this the rsplit function can be used to remove the 4 digits on the end of the field, which allows us to group by Local Area Name for the location-based tasks. Finally, all usual residents will be used to calculate the population using the sum function to sum all the sub locations for a city which will be used to answer statement 2 for incidents per head per population of each city.\n",
    "\n",
    "It is best practise to select only the fields needed to reduce the amount of data in the RDD or data frame and therefore speed up the time taken to process. It is also important to parse the fields correctly so that the data is in the correct format for processing."
   ]
  },
  {
   "cell_type": "code",
   "execution_count": 8,
   "metadata": {
    "scrolled": true
   },
   "outputs": [],
   "source": [
    "#Load data files\n",
    "crimeSrc = sc.textFile(\"all_crimes18_hdr.txt.gz\") #load crime data \n",
    "populationSrc = sc.textFile(\"LSOA_pop_v2.csv\") #load location data\n",
    "deprivationSrc = sc.textFile(\"deprivation_with_hdr.gz\") #load data"
   ]
  },
  {
   "cell_type": "code",
   "execution_count": 9,
   "metadata": {},
   "outputs": [],
   "source": [
    "#function to parse data\n",
    "def parseCrime(line):\n",
    "    fields = line.split(',') #split fields by comma because csv format\n",
    "    #parse date\n",
    "    Month = fields[1]\n",
    "    LSOA = fields[7]\n",
    "    CrimeType = fields[9]\n",
    "    return (Month,LSOA,CrimeType)"
   ]
  },
  {
   "cell_type": "code",
   "execution_count": 10,
   "metadata": {},
   "outputs": [],
   "source": [
    "#function to parse data\n",
    "def parsePop(line):\n",
    "    fields = line.split(',') #split fields by comma because csv format\n",
    "    Geography = fields[1].rsplit(' ', 1)[0] #remove 4-digit code from field so place name remains\n",
    "    GeographyCode = fields[2]\n",
    "    PopulationStr = fields[4]\n",
    "    AllResidents = int(PopulationStr)\n",
    "    return (Geography,GeographyCode,AllResidents)"
   ]
  },
  {
   "cell_type": "markdown",
   "metadata": {},
   "source": [
    "### Remove Header and Check Files"
   ]
  },
  {
   "cell_type": "code",
   "execution_count": 12,
   "metadata": {},
   "outputs": [],
   "source": [
    "#function to remove header line\n",
    "def removeHead(lines):\n",
    "    #filter header line of txt file\n",
    "    header = lines.first() #store header in var\n",
    "    justdata = lines.filter(lambda row: row != header) #seperate data\n",
    "    return justdata #return only the data"
   ]
  },
  {
   "cell_type": "code",
   "execution_count": 14,
   "metadata": {},
   "outputs": [
    {
     "data": {
      "text/plain": [
       "['Crime ID,Month,Reported by,Falls within,Longitude,Latitude,Location,LSOA code,LSOA name,Crime type,Last outcome category,Context',\n",
       " ',2010-12,Avon and Somerset Constabulary,Avon and Somerset Constabulary,-0.805600,51.819143,On or near Norfolk Terrace,E01017662,Aylesbury Vale 015C,Other crime,,',\n",
       " ',2010-12,Avon and Somerset Constabulary,Avon and Somerset Constabulary,-2.494366,51.418169,On or near Keynsham Road,E01014399,Bath and North East Somerset 001A,Anti-social behaviour,,',\n",
       " ',2010-12,Avon and Somerset Constabulary,Avon and Somerset Constabulary,-2.511927,51.409435,On or near Harlech Close,E01014399,Bath and North East Somerset 001A,Anti-social behaviour,,',\n",
       " ',2010-12,Avon and Somerset Constabulary,Avon and Somerset Constabulary,-2.511571,51.414895,On or near Orchard Close,E01014399,Bath and North East Somerset 001A,Anti-social behaviour,,']"
      ]
     },
     "execution_count": 14,
     "metadata": {},
     "output_type": "execute_result"
    }
   ],
   "source": [
    "#check dataset and get layout/format\n",
    "crimeSrc.take(5)"
   ]
  },
  {
   "cell_type": "code",
   "execution_count": 15,
   "metadata": {},
   "outputs": [],
   "source": [
    "#remove header\n",
    "crimeSrc = removeHead(crimeSrc)\n",
    "#map crimes data\n",
    "rddCrimes = crimeSrc.map(parseCrime) #create rdd\n",
    "#rddCrimes.count() #check all data is present"
   ]
  },
  {
   "cell_type": "code",
   "execution_count": 16,
   "metadata": {},
   "outputs": [
    {
     "data": {
      "text/plain": [
       "[('2010-12', 'E01017662', 'Other crime'),\n",
       " ('2010-12', 'E01014399', 'Anti-social behaviour'),\n",
       " ('2010-12', 'E01014399', 'Anti-social behaviour'),\n",
       " ('2010-12', 'E01014399', 'Anti-social behaviour'),\n",
       " ('2010-12', 'E01014399', 'Anti-social behaviour')]"
      ]
     },
     "execution_count": 16,
     "metadata": {},
     "output_type": "execute_result"
    }
   ],
   "source": [
    "#test data is parsed and only required fields remain\n",
    "rddCrimes.take(5)"
   ]
  },
  {
   "cell_type": "markdown",
   "metadata": {},
   "source": [
    "### Create Dataframe for Crime Dataset"
   ]
  },
  {
   "cell_type": "code",
   "execution_count": 17,
   "metadata": {},
   "outputs": [],
   "source": [
    "##import types\n",
    "from pyspark.sql.types import StructType,IntegerType,StructType,StringType\n",
    "from pyspark.sql.types import *\n",
    "##Define df schema\n",
    "schemaA = StructType(\n",
    "    [StructField(\"Month\", StringType(), True),\n",
    "    StructField(\"LSOA\", StringType(), True),\n",
    "    StructField(\"CrimeType\", StringType(), True)])\n",
    "#create dataframe for crimes using schema\n",
    "dfCrimes = sqlCtx.createDataFrame(rddCrimes, schemaA) #create dataframe using defined schema"
   ]
  },
  {
   "cell_type": "code",
   "execution_count": 18,
   "metadata": {},
   "outputs": [
    {
     "name": "stdout",
     "output_type": "stream",
     "text": [
      "+-------+---------+--------------------+\n",
      "|  Month|     LSOA|           CrimeType|\n",
      "+-------+---------+--------------------+\n",
      "|2010-12|E01017662|         Other crime|\n",
      "|2010-12|E01014399|Anti-social behav...|\n",
      "|2010-12|E01014399|Anti-social behav...|\n",
      "|2010-12|E01014399|Anti-social behav...|\n",
      "|2010-12|E01014399|Anti-social behav...|\n",
      "|2010-12|E01014399|Anti-social behav...|\n",
      "|2010-12|E01014399|            Burglary|\n",
      "|2010-12|E01014399|            Burglary|\n",
      "|2010-12|E01014399|         Other crime|\n",
      "|2010-12|E01014400|Anti-social behav...|\n",
      "|2010-12|E01014400|Anti-social behav...|\n",
      "|2010-12|E01014400|Anti-social behav...|\n",
      "|2010-12|E01014400|Anti-social behav...|\n",
      "|2010-12|E01014400|Anti-social behav...|\n",
      "|2010-12|E01014400|Anti-social behav...|\n",
      "|2010-12|E01014400|            Burglary|\n",
      "|2010-12|E01014400|            Burglary|\n",
      "|2010-12|E01014400|            Burglary|\n",
      "|2010-12|E01014400|            Burglary|\n",
      "|2010-12|E01014400|       Vehicle crime|\n",
      "+-------+---------+--------------------+\n",
      "only showing top 20 rows\n",
      "\n"
     ]
    }
   ],
   "source": [
    "dfCrimes.show() #check structure"
   ]
  },
  {
   "cell_type": "code",
   "execution_count": 19,
   "metadata": {},
   "outputs": [
    {
     "name": "stdout",
     "output_type": "stream",
     "text": [
      "root\n",
      " |-- Month: string (nullable = true)\n",
      " |-- LSOA: string (nullable = true)\n",
      " |-- CrimeType: string (nullable = true)\n",
      "\n"
     ]
    }
   ],
   "source": [
    "dfCrimes.printSchema() #check schema"
   ]
  },
  {
   "cell_type": "code",
   "execution_count": 20,
   "metadata": {},
   "outputs": [],
   "source": [
    "#group by crime type to find out possible crime types\n",
    "allCrimeTypes = dfCrimes.groupBy(\"CrimeType\")\\\n",
    ".count()\\\n",
    ".sort(\"CrimeType\", ascending=True)"
   ]
  },
  {
   "cell_type": "code",
   "execution_count": 21,
   "metadata": {},
   "outputs": [
    {
     "data": {
      "text/plain": [
       "[Row(CrimeType='', count=31),\n",
       " Row(CrimeType='Anti-social behaviour', count=15876047),\n",
       " Row(CrimeType='Bassetlaw 008B', count=8),\n",
       " Row(CrimeType='Bicycle theft', count=502391),\n",
       " Row(CrimeType='Blaby 013C', count=41),\n",
       " Row(CrimeType='Burglary', count=3407977),\n",
       " Row(CrimeType='Charnwood 012C', count=30),\n",
       " Row(CrimeType='Charnwood 021E', count=375),\n",
       " Row(CrimeType='Charnwood 022D', count=28),\n",
       " Row(CrimeType='Criminal damage and arson', count=3885733),\n",
       " Row(CrimeType='Drugs', count=1163886),\n",
       " Row(CrimeType='Hillingdon 009E', count=17),\n",
       " Row(CrimeType='Hillingdon 011C', count=125),\n",
       " Row(CrimeType='Other crime', count=2271304),\n",
       " Row(CrimeType='Other theft', count=3956838),\n",
       " Row(CrimeType='Possession of weapons', count=159023),\n",
       " Row(CrimeType='Public disorder and weapons', count=242141),\n",
       " Row(CrimeType='Public order', count=1319234),\n",
       " Row(CrimeType='Robbery', count=490235),\n",
       " Row(CrimeType='Shoplifting', count=2375482),\n",
       " Row(CrimeType='Theft from the person', count=477461),\n",
       " Row(CrimeType='Vehicle crime', count=3051734),\n",
       " Row(CrimeType='Violence and sexual offences', count=6133323),\n",
       " Row(CrimeType='Violent crime', count=1673194),\n",
       " Row(CrimeType='Worthing 010A', count=178)]"
      ]
     },
     "execution_count": 21,
     "metadata": {},
     "output_type": "execute_result"
    }
   ],
   "source": [
    "allCrimeTypes.take(50) #list of crime types to inform filtering of data"
   ]
  },
  {
   "cell_type": "markdown",
   "metadata": {},
   "source": [
    "### Create sub dataframes for each type of crime required\n",
    "This includes violent crime for task 1 and 2 and drug/weapon crime for task 3"
   ]
  },
  {
   "cell_type": "code",
   "execution_count": 22,
   "metadata": {},
   "outputs": [],
   "source": [
    "#create subsets for violence, drugs and weapons as all are needed to answer questions\n",
    "#using the \"pipe\" or | vertical line allows multiple criteria similar to \"OR\" in sql\n",
    "#Filter violent crime using closest available crime types\n",
    "vlntCrime = dfCrimes.filter((dfCrimes.CrimeType == \"Violence and sexual offences\") | (dfCrimes.CrimeType == \"Violent crime\"))\n",
    "#Drugs\n",
    "drugCrime = dfCrimes.filter(dfCrimes.CrimeType == \"Drugs\")\n",
    "#Firearms related - weapon crimes are the closest crime to firearms therefore we must use these crime types instead\n",
    "weaponCrime = dfCrimes.filter((dfCrimes.CrimeType == \"Possession of weapons\") | (dfCrimes.CrimeType == \"Public disorder and weapons\"))"
   ]
  },
  {
   "cell_type": "markdown",
   "metadata": {},
   "source": [
    "### Process violent crime dataframe to create time series graph"
   ]
  },
  {
   "cell_type": "code",
   "execution_count": 23,
   "metadata": {},
   "outputs": [
    {
     "data": {
      "text/plain": [
       "7806517"
      ]
     },
     "execution_count": 23,
     "metadata": {},
     "output_type": "execute_result"
    }
   ],
   "source": [
    "#we only need violent crime for now\n",
    "vlntCrime.count() #check count"
   ]
  },
  {
   "cell_type": "code",
   "execution_count": 24,
   "metadata": {},
   "outputs": [],
   "source": [
    "#group by month, count monthly tests and sort by count so we have monthly totals for graph\n",
    "monthlyVlntC = vlntCrime.groupBy(\"Month\")\\\n",
    ".count()\\\n",
    ".sort(\"Month\", ascending=True)"
   ]
  },
  {
   "cell_type": "code",
   "execution_count": 25,
   "metadata": {},
   "outputs": [
    {
     "name": "stdout",
     "output_type": "stream",
     "text": [
      "root\n",
      " |-- Month: string (nullable = true)\n",
      " |-- Incidents: long (nullable = false)\n",
      "\n"
     ]
    }
   ],
   "source": [
    "#rename columns\n",
    "newColumns = [\"Month\",\"Incidents\"]\n",
    "monthlyVlntRn = monthlyVlntC.toDF(*newColumns)\n",
    "#Check types\n",
    "monthlyVlntRn.printSchema()"
   ]
  },
  {
   "cell_type": "code",
   "execution_count": 26,
   "metadata": {},
   "outputs": [
    {
     "name": "stdout",
     "output_type": "stream",
     "text": [
      "+-------+---------+\n",
      "|  Month|Incidents|\n",
      "+-------+---------+\n",
      "|2010-12|    57580|\n",
      "|2011-01|    59823|\n",
      "|2011-02|    56686|\n",
      "|2011-03|    62326|\n",
      "|2011-04|    64297|\n",
      "|2011-05|    63633|\n",
      "|2011-06|    62473|\n",
      "|2011-07|    66570|\n",
      "|2011-08|    63284|\n",
      "|2011-09|    57149|\n",
      "|2011-10|    60076|\n",
      "|2011-11|    56894|\n",
      "|2011-12|    56163|\n",
      "|2012-01|    56324|\n",
      "|2012-02|    50598|\n",
      "|2012-03|    58606|\n",
      "|2012-04|    53415|\n",
      "|2012-05|    59539|\n",
      "|2012-06|    56816|\n",
      "|2012-07|    60199|\n",
      "+-------+---------+\n",
      "only showing top 20 rows\n",
      "\n"
     ]
    }
   ],
   "source": [
    "monthlyVlntRn.show() #view data structure is as expected"
   ]
  },
  {
   "cell_type": "code",
   "execution_count": 27,
   "metadata": {},
   "outputs": [
    {
     "data": {
      "text/html": [
       "<div>\n",
       "<style scoped>\n",
       "    .dataframe tbody tr th:only-of-type {\n",
       "        vertical-align: middle;\n",
       "    }\n",
       "\n",
       "    .dataframe tbody tr th {\n",
       "        vertical-align: top;\n",
       "    }\n",
       "\n",
       "    .dataframe thead th {\n",
       "        text-align: right;\n",
       "    }\n",
       "</style>\n",
       "<table border=\"1\" class=\"dataframe\">\n",
       "  <thead>\n",
       "    <tr style=\"text-align: right;\">\n",
       "      <th></th>\n",
       "      <th>Month</th>\n",
       "      <th>Incidents</th>\n",
       "    </tr>\n",
       "  </thead>\n",
       "  <tbody>\n",
       "    <tr>\n",
       "      <th>0</th>\n",
       "      <td>2010-12</td>\n",
       "      <td>57580</td>\n",
       "    </tr>\n",
       "    <tr>\n",
       "      <th>1</th>\n",
       "      <td>2011-01</td>\n",
       "      <td>59823</td>\n",
       "    </tr>\n",
       "    <tr>\n",
       "      <th>2</th>\n",
       "      <td>2011-02</td>\n",
       "      <td>56686</td>\n",
       "    </tr>\n",
       "    <tr>\n",
       "      <th>3</th>\n",
       "      <td>2011-03</td>\n",
       "      <td>62326</td>\n",
       "    </tr>\n",
       "    <tr>\n",
       "      <th>4</th>\n",
       "      <td>2011-04</td>\n",
       "      <td>64297</td>\n",
       "    </tr>\n",
       "    <tr>\n",
       "      <th>...</th>\n",
       "      <td>...</td>\n",
       "      <td>...</td>\n",
       "    </tr>\n",
       "    <tr>\n",
       "      <th>87</th>\n",
       "      <td>2018-03</td>\n",
       "      <td>140964</td>\n",
       "    </tr>\n",
       "    <tr>\n",
       "      <th>88</th>\n",
       "      <td>2018-04</td>\n",
       "      <td>142115</td>\n",
       "    </tr>\n",
       "    <tr>\n",
       "      <th>89</th>\n",
       "      <td>2018-05</td>\n",
       "      <td>158058</td>\n",
       "    </tr>\n",
       "    <tr>\n",
       "      <th>90</th>\n",
       "      <td>2018-06</td>\n",
       "      <td>156091</td>\n",
       "    </tr>\n",
       "    <tr>\n",
       "      <th>91</th>\n",
       "      <td>2018-07</td>\n",
       "      <td>166576</td>\n",
       "    </tr>\n",
       "  </tbody>\n",
       "</table>\n",
       "<p>92 rows × 2 columns</p>\n",
       "</div>"
      ],
      "text/plain": [
       "      Month  Incidents\n",
       "0   2010-12      57580\n",
       "1   2011-01      59823\n",
       "2   2011-02      56686\n",
       "3   2011-03      62326\n",
       "4   2011-04      64297\n",
       "..      ...        ...\n",
       "87  2018-03     140964\n",
       "88  2018-04     142115\n",
       "89  2018-05     158058\n",
       "90  2018-06     156091\n",
       "91  2018-07     166576\n",
       "\n",
       "[92 rows x 2 columns]"
      ]
     },
     "execution_count": 27,
     "metadata": {},
     "output_type": "execute_result"
    }
   ],
   "source": [
    "#convert to pandas\n",
    "monthlyVlntC_PD = monthlyVlntRn.toPandas()\n",
    "monthlyVlntC_PD"
   ]
  },
  {
   "cell_type": "code",
   "execution_count": 28,
   "metadata": {},
   "outputs": [
    {
     "data": {
      "image/png": "[encoded data removed]",
      "text/plain": [
       "<Figure size 1080x432 with 1 Axes>"
      ]
     },
     "metadata": {
      "needs_background": "light"
     },
     "output_type": "display_data"
    }
   ],
   "source": [
    "#import graph libaries and set figure size\n",
    "from matplotlib.pylab import rcParams\n",
    "rcParams['figure.figsize'] = 15, 6\n",
    "\n",
    "from pandas import Series\n",
    "from matplotlib import pyplot\n",
    "\n",
    "#plot basic data\n",
    "monthlyVlntC_PD.plot()\n",
    "pyplot.show()"
   ]
  },
  {
   "cell_type": "code",
   "execution_count": 29,
   "metadata": {},
   "outputs": [],
   "source": [
    "#Calculate rolling average\n",
    "rollingAvgVlnt = monthlyVlntC_PD.rolling(12).mean()"
   ]
  },
  {
   "cell_type": "code",
   "execution_count": 30,
   "metadata": {},
   "outputs": [
    {
     "data": {
      "image/png": "[encoded data removed]",
      "text/plain": [
       "<Figure size 1080x432 with 1 Axes>"
      ]
     },
     "metadata": {
      "needs_background": "light"
     },
     "output_type": "display_data"
    }
   ],
   "source": [
    "vlntLinePlot = monthlyVlntC_PD.plot(x=\"Month\", y=\"Incidents\", color='blue') #plot monthly incidents\n",
    "mean = plt.plot(rollingAvgVlnt, color='red', label='Rolling Mean') #plot rolling average \n",
    "plt.legend(loc='best')\n",
    "#set labels\n",
    "plt.ylabel(\"Number of Incidents\")\n",
    "plt.xlabel(\"Time\")\n",
    "plt.title(\"Violent Crime Incidents against Time\")\n",
    "plt.show(block=False)\n",
    "pyplot.show() #display graph"
   ]
  },
  {
   "cell_type": "markdown",
   "metadata": {},
   "source": [
    "## Answer 1: Is violent crime increasing?\n",
    "\n",
    "The first statement made is that violent crime is increasing. To determine if this is correct, we must first select which dataset we need to answer this, since the statement does not require any population data to answer the only dataset needed is the crimes dataset. Earlier in the processing stage we filtered the dataset into sub data frames for violent, drug and weapon crimes, for this section we used the violent crime sub dataset. Since the statement is related to time, we will select the date or “month” as the data field that we will need to group by. The other data we need is the number of violent crimes this is calculated by using the count function in spark SQL. The result is a table of the months within the dataset and the number of crimes for each month. This data will then be plotted on a time series graph using Pandas and Matplotlib to show the change in violent crime over time. Time series is the preferred graph for Time related data explains (Doorman and Gravemeijer, 2008), this is because they display visually the rate of change and peaks and troughs clearly as opposed to tables of data. This means that reasoning on data can more easily be given.\n",
    "\n",
    "The graph shows a clear rolling average that increases with time which proves the statement \"Violent Crime is Increasing\". While the first months from 2010 to 2014 have a small decrease after 2014 violent crime starts to increase at a steady rate as shown by the rolling average. This is backed up by a report published by the Office for National Statistics (Ellis, 2021), which says that there has been a rise in certain crime types such as violent crime and sexual offences."
   ]
  },
  {
   "cell_type": "markdown",
   "metadata": {},
   "source": [
    "### Parse LSOA dataset and create population dataframe"
   ]
  },
  {
   "cell_type": "code",
   "execution_count": 31,
   "metadata": {},
   "outputs": [
    {
     "data": {
      "text/plain": [
       "['\"date\",\"geography\",\"geography code\",\"Rural Urban\",\"Variable: All usual residents; measures: Value\",\"Variable: Males; measures: Value\",\"Variable: Females; measures: Value\",\"Variable: Lives in a household; measures: Value\",\"Variable: Lives in a communal establishment; measures: Value\",\"Variable: Schoolchild or full-time student aged 4 and over at their non term-time address; measures: Value\",\"Variable: Area (Hectares); measures: Value\",\"Variable: Density (number of persons per hectare); measures: Value\"',\n",
       " '2011,Darlington 001B,E01012334,Total,2466,1220,1246,2466,0,42,6033.58,0.4',\n",
       " '2011,Darlington 001C,E01012335,Total,1383,682,701,1383,0,21,114.01,12.1',\n",
       " '2011,Darlington 001D,E01012366,Total,2008,972,1036,2008,0,30,6718.16,0.3',\n",
       " '2011,Darlington 001E,E01033481,Total,1364,680,684,1350,14,21,146.95,9.3']"
      ]
     },
     "execution_count": 31,
     "metadata": {},
     "output_type": "execute_result"
    }
   ],
   "source": [
    "populationSrc.take(5)#check data present"
   ]
  },
  {
   "cell_type": "code",
   "execution_count": 32,
   "metadata": {},
   "outputs": [],
   "source": [
    "#map crimes data\n",
    "popData = removeHead(populationSrc) #remove header\n",
    "rddPop = popData.map(parsePop) #parse data andcreate rdd"
   ]
  },
  {
   "cell_type": "code",
   "execution_count": 33,
   "metadata": {},
   "outputs": [
    {
     "data": {
      "text/plain": [
       "[('Darlington', 'E01012334', 2466),\n",
       " ('Darlington', 'E01012335', 1383),\n",
       " ('Darlington', 'E01012366', 2008),\n",
       " ('Darlington', 'E01033481', 1364),\n",
       " ('Darlington', 'E01033482', 1621),\n",
       " ('Darlington', 'E01012323', 1563),\n",
       " ('Darlington', 'E01012324', 1399),\n",
       " ('Darlington', 'E01032545', 1259),\n",
       " ('Darlington', 'E01032546', 1776),\n",
       " ('Darlington', 'E01012328', 1571),\n",
       " ('Darlington', 'E01012329', 1770),\n",
       " ('Darlington', 'E01012330', 1145),\n",
       " ('Darlington', 'E01012331', 1255),\n",
       " ('Darlington', 'E01012349', 1532),\n",
       " ('Darlington', 'E01012350', 1517),\n",
       " ('Darlington', 'E01012351', 1438),\n",
       " ('Darlington', 'E01012352', 1579),\n",
       " ('Darlington', 'E01012325', 1456),\n",
       " ('Darlington', 'E01012326', 1129),\n",
       " ('Darlington', 'E01012332', 1427),\n",
       " ('Darlington', 'E01012333', 1451),\n",
       " ('Darlington', 'E01012309', 1858),\n",
       " ('Darlington', 'E01012310', 1960),\n",
       " ('Darlington', 'E01012311', 1567),\n",
       " ('Darlington', 'E01012312', 1351),\n",
       " ('Darlington', 'E01012313', 1402),\n",
       " ('Darlington', 'E01012314', 1364),\n",
       " ('Darlington', 'E01012362', 1376),\n",
       " ('Darlington', 'E01012363', 1334),\n",
       " ('Darlington', 'E01012364', 1485),\n",
       " ('Darlington', 'E01012365', 1255),\n",
       " ('Darlington', 'E01012353', 1612),\n",
       " ('Darlington', 'E01012354', 1608),\n",
       " ('Darlington', 'E01012355', 1491),\n",
       " ('Darlington', 'E01033483', 1040),\n",
       " ('Darlington', 'E01033484', 1167),\n",
       " ('Darlington', 'E01012307', 1897),\n",
       " ('Darlington', 'E01012327', 1575),\n",
       " ('Darlington', 'E01012342', 1778),\n",
       " ('Darlington', 'E01012343', 2004),\n",
       " ('Darlington', 'E01012315', 1648),\n",
       " ('Darlington', 'E01012316', 2515),\n",
       " ('Darlington', 'E01012360', 1742),\n",
       " ('Darlington', 'E01012336', 1745),\n",
       " ('Darlington', 'E01012337', 1733),\n",
       " ('Darlington', 'E01012347', 1722),\n",
       " ('Darlington', 'E01012348', 1986),\n",
       " ('Darlington', 'E01012361', 1909),\n",
       " ('Darlington', 'E01012304', 1210),\n",
       " ('Darlington', 'E01012305', 1231),\n",
       " ('Darlington', 'E01012306', 1591),\n",
       " ('Darlington', 'E01012340', 2422),\n",
       " ('Darlington', 'E01012341', 1759),\n",
       " ('Darlington', 'E01012317', 1370),\n",
       " ('Darlington', 'E01012318', 2335),\n",
       " ('Darlington', 'E01012319', 2811),\n",
       " ('Darlington', 'E01012356', 1600),\n",
       " ('Darlington', 'E01012357', 1447),\n",
       " ('Darlington', 'E01012358', 1679),\n",
       " ('Darlington', 'E01012359', 1586),\n",
       " ('Darlington', 'E01012338', 1908),\n",
       " ('Darlington', 'E01012339', 1732),\n",
       " ('Darlington', 'E01012344', 1337),\n",
       " ('Darlington', 'E01012345', 1480),\n",
       " ('Darlington', 'E01012346', 1833),\n",
       " ('County Durham', 'E01020613', 1392),\n",
       " ('County Durham', 'E01020614', 1429),\n",
       " ('County Durham', 'E01020622', 1657),\n",
       " ('County Durham', 'E01020623', 1503),\n",
       " ('County Durham', 'E01020606', 1509),\n",
       " ('County Durham', 'E01020615', 1778),\n",
       " ('County Durham', 'E01020616', 1688),\n",
       " ('County Durham', 'E01020617', 1812),\n",
       " ('County Durham', 'E01020596', 1679),\n",
       " ('County Durham', 'E01020597', 1495),\n",
       " ('County Durham', 'E01020598', 1770),\n",
       " ('County Durham', 'E01020611', 1346),\n",
       " ('County Durham', 'E01020612', 1626),\n",
       " ('County Durham', 'E01020592', 1514),\n",
       " ('County Durham', 'E01020593', 1227),\n",
       " ('County Durham', 'E01020599', 1701),\n",
       " ('County Durham', 'E01020601', 1550),\n",
       " ('County Durham', 'E01020602', 1829),\n",
       " ('County Durham', 'E01020618', 1558),\n",
       " ('County Durham', 'E01020594', 1641),\n",
       " ('County Durham', 'E01020595', 1728),\n",
       " ('County Durham', 'E01020600', 1515),\n",
       " ('County Durham', 'E01020603', 1843),\n",
       " ('County Durham', 'E01020605', 1757),\n",
       " ('County Durham', 'E01020590', 1369),\n",
       " ('County Durham', 'E01020591', 1481),\n",
       " ('County Durham', 'E01020608', 1786),\n",
       " ('County Durham', 'E01020609', 1403),\n",
       " ('County Durham', 'E01020610', 1498),\n",
       " ('County Durham', 'E01020604', 1420),\n",
       " ('County Durham', 'E01020607', 1614),\n",
       " ('County Durham', 'E01020619', 1540),\n",
       " ('County Durham', 'E01020620', 1603),\n",
       " ('County Durham', 'E01020621', 1856),\n",
       " ('County Durham', 'E01020634', 1563),\n",
       " ('County Durham', 'E01020635', 1379),\n",
       " ('County Durham', 'E01020636', 1698),\n",
       " ('County Durham', 'E01020654', 1746),\n",
       " ('County Durham', 'E01020676', 1514),\n",
       " ('County Durham', 'E01020627', 1538),\n",
       " ('County Durham', 'E01020628', 1648),\n",
       " ('County Durham', 'E01020629', 1507),\n",
       " ('County Durham', 'E01020655', 2008),\n",
       " ('County Durham', 'E01020656', 1458),\n",
       " ('County Durham', 'E01020657', 1544),\n",
       " ('County Durham', 'E01020661', 1880),\n",
       " ('County Durham', 'E01020662', 1792),\n",
       " ('County Durham', 'E01020663', 1847),\n",
       " ('County Durham', 'E01020674', 1586),\n",
       " ('County Durham', 'E01020678', 1369),\n",
       " ('County Durham', 'E01020626', 1541),\n",
       " ('County Durham', 'E01020638', 1562),\n",
       " ('County Durham', 'E01020639', 1500),\n",
       " ('County Durham', 'E01020653', 1549),\n",
       " ('County Durham', 'E01020677', 1534),\n",
       " ('County Durham', 'E01020647', 2142),\n",
       " ('County Durham', 'E01020648', 1879),\n",
       " ('County Durham', 'E01020649', 1547),\n",
       " ('County Durham', 'E01020673', 1626),\n",
       " ('County Durham', 'E01020675', 1700),\n",
       " ('County Durham', 'E01020624', 1562),\n",
       " ('County Durham', 'E01020625', 1609),\n",
       " ('County Durham', 'E01020670', 1559),\n",
       " ('County Durham', 'E01020671', 1346),\n",
       " ('County Durham', 'E01020672', 1671),\n",
       " ('County Durham', 'E01020632', 1818),\n",
       " ('County Durham', 'E01020640', 2354),\n",
       " ('County Durham', 'E01020641', 2196),\n",
       " ('County Durham', 'E01020642', 1395),\n",
       " ('County Durham', 'E01020643', 2157),\n",
       " ('County Durham', 'E01020667', 1537),\n",
       " ('County Durham', 'E01020650', 2183),\n",
       " ('County Durham', 'E01020651', 1736),\n",
       " ('County Durham', 'E01020652', 2006),\n",
       " ('County Durham', 'E01020668', 1493),\n",
       " ('County Durham', 'E01020669', 1474),\n",
       " ('County Durham', 'E01020630', 1388),\n",
       " ('County Durham', 'E01020631', 1649),\n",
       " ('County Durham', 'E01020637', 1657),\n",
       " ('County Durham', 'E01020644', 2457),\n",
       " ('County Durham', 'E01020645', 1489),\n",
       " ('County Durham', 'E01020633', 1564),\n",
       " ('County Durham', 'E01020664', 1410),\n",
       " ('County Durham', 'E01020665', 1356),\n",
       " ('County Durham', 'E01020666', 1459),\n",
       " ('County Durham', 'E01020646', 1586),\n",
       " ('County Durham', 'E01020658', 1811),\n",
       " ('County Durham', 'E01020659', 1576),\n",
       " ('County Durham', 'E01020660', 1597),\n",
       " ('County Durham', 'E01020709', 2464),\n",
       " ('County Durham', 'E01020717', 1614),\n",
       " ('County Durham', 'E01020718', 1323),\n",
       " ('County Durham', 'E01020719', 1236),\n",
       " ('County Durham', 'E01020721', 1182),\n",
       " ('County Durham', 'E01020708', 1160),\n",
       " ('County Durham', 'E01020710', 1581),\n",
       " ('County Durham', 'E01020711', 1747),\n",
       " ('County Durham', 'E01020720', 1414),\n",
       " ('County Durham', 'E01020679', 1600),\n",
       " ('County Durham', 'E01020680', 1635),\n",
       " ('County Durham', 'E01020681', 1467),\n",
       " ('County Durham', 'E01020714', 1551),\n",
       " ('County Durham', 'E01020716', 1709),\n",
       " ('County Durham', 'E01020725', 1534),\n",
       " ('County Durham', 'E01020726', 1229),\n",
       " ('County Durham', 'E01020727', 1087),\n",
       " ('County Durham', 'E01020729', 2118),\n",
       " ('County Durham', 'E01020730', 1685),\n",
       " ('County Durham', 'E01020731', 1455),\n",
       " ('County Durham', 'E01020682', 1884),\n",
       " ('County Durham', 'E01020683', 1653),\n",
       " ('County Durham', 'E01020690', 1290),\n",
       " ('County Durham', 'E01020691', 1332),\n",
       " ('County Durham', 'E01020692', 1390),\n",
       " ('County Durham', 'E01020693', 1332),\n",
       " ('County Durham', 'E01020722', 2008),\n",
       " ('County Durham', 'E01020723', 1731),\n",
       " ('County Durham', 'E01020724', 1613),\n",
       " ('County Durham', 'E01020703', 2073),\n",
       " ('County Durham', 'E01033164', 2284),\n",
       " ('County Durham', 'E01033195', 1387),\n",
       " ('County Durham', 'E01033197', 2010),\n",
       " ('County Durham', 'E01033221', 4494),\n",
       " ('County Durham', 'E01020684', 2317),\n",
       " ('County Durham', 'E01020702', 2331),\n",
       " ('County Durham', 'E01020704', 1898),\n",
       " ('County Durham', 'E01020712', 1610),\n",
       " ('County Durham', 'E01020713', 2028),\n",
       " ('County Durham', 'E01020705', 1450),\n",
       " ('County Durham', 'E01020706', 1840),\n",
       " ('County Durham', 'E01020715', 2393),\n",
       " ('County Durham', 'E01020685', 1657),\n",
       " ('County Durham', 'E01020686', 1572),\n",
       " ('County Durham', 'E01020687', 1427),\n",
       " ('County Durham', 'E01020688', 1530)]"
      ]
     },
     "execution_count": 33,
     "metadata": {},
     "output_type": "execute_result"
    }
   ],
   "source": [
    "#check data\n",
    "rddPop.take(200)"
   ]
  },
  {
   "cell_type": "code",
   "execution_count": 34,
   "metadata": {},
   "outputs": [],
   "source": [
    "#Create dataframe\n",
    "schemaB = StructType(\n",
    "    [StructField(\"Geography\", StringType(), True),\n",
    "    StructField(\"GeographyCode\", StringType(), True),\n",
    "    StructField(\"AllResidents\", IntegerType(), True)])\n",
    "#create dataframe for crimes using schema\n",
    "dfPop = sqlCtx.createDataFrame(rddPop, schemaB) #create dataframe using defined schema"
   ]
  },
  {
   "cell_type": "code",
   "execution_count": 35,
   "metadata": {},
   "outputs": [
    {
     "name": "stdout",
     "output_type": "stream",
     "text": [
      "+----------+-------------+------------+\n",
      "| Geography|GeographyCode|AllResidents|\n",
      "+----------+-------------+------------+\n",
      "|Darlington|    E01012334|        2466|\n",
      "|Darlington|    E01012335|        1383|\n",
      "|Darlington|    E01012366|        2008|\n",
      "|Darlington|    E01033481|        1364|\n",
      "|Darlington|    E01033482|        1621|\n",
      "|Darlington|    E01012323|        1563|\n",
      "|Darlington|    E01012324|        1399|\n",
      "|Darlington|    E01032545|        1259|\n",
      "|Darlington|    E01032546|        1776|\n",
      "|Darlington|    E01012328|        1571|\n",
      "|Darlington|    E01012329|        1770|\n",
      "|Darlington|    E01012330|        1145|\n",
      "|Darlington|    E01012331|        1255|\n",
      "|Darlington|    E01012349|        1532|\n",
      "|Darlington|    E01012350|        1517|\n",
      "|Darlington|    E01012351|        1438|\n",
      "|Darlington|    E01012352|        1579|\n",
      "|Darlington|    E01012325|        1456|\n",
      "|Darlington|    E01012326|        1129|\n",
      "|Darlington|    E01012332|        1427|\n",
      "+----------+-------------+------------+\n",
      "only showing top 20 rows\n",
      "\n"
     ]
    }
   ],
   "source": [
    "dfPop.show()#check structure"
   ]
  },
  {
   "cell_type": "code",
   "execution_count": 36,
   "metadata": {},
   "outputs": [],
   "source": [
    "#group by location and calculate the total population using the sum of all residents for each record for all locations\n",
    "locationPopulations = dfPop.groupBy(\"Geography\")\\\n",
    ".sum(\"AllResidents\")\\\n",
    ".sort(\"Geography\", ascending=True)"
   ]
  },
  {
   "cell_type": "code",
   "execution_count": 37,
   "metadata": {},
   "outputs": [
    {
     "name": "stdout",
     "output_type": "stream",
     "text": [
      "+--------------------+-----------------+\n",
      "|           Geography|sum(AllResidents)|\n",
      "+--------------------+-----------------+\n",
      "|                Adur|            61182|\n",
      "|           Allerdale|            96422|\n",
      "|        Amber Valley|           122309|\n",
      "|                Arun|           149518|\n",
      "|            Ashfield|           119497|\n",
      "|             Ashford|           117956|\n",
      "|      Aylesbury Vale|           174137|\n",
      "|             Babergh|            87740|\n",
      "|Barking and Dagenham|           185911|\n",
      "|              Barnet|           356386|\n",
      "|            Barnsley|           231221|\n",
      "|   Barrow-in-Furness|            69087|\n",
      "|            Basildon|           174497|\n",
      "|Basingstoke and D...|           167799|\n",
      "|           Bassetlaw|           112863|\n",
      "|Bath and North Ea...|           176016|\n",
      "|             Bedford|           157479|\n",
      "|              Bexley|           231997|\n",
      "|          Birmingham|          1073045|\n",
      "|               Blaby|            93915|\n",
      "+--------------------+-----------------+\n",
      "only showing top 20 rows\n",
      "\n"
     ]
    }
   ],
   "source": [
    "locationPopulations.show() #check result"
   ]
  },
  {
   "cell_type": "code",
   "execution_count": 38,
   "metadata": {},
   "outputs": [],
   "source": [
    "#rename columns for later reference\n",
    "newColumns = [\"Location\",\"Population\"]\n",
    "locations = locationPopulations.toDF(*newColumns)"
   ]
  },
  {
   "cell_type": "code",
   "execution_count": 39,
   "metadata": {},
   "outputs": [
    {
     "name": "stdout",
     "output_type": "stream",
     "text": [
      "+--------------------+----------+\n",
      "|            Location|Population|\n",
      "+--------------------+----------+\n",
      "|                Adur|     61182|\n",
      "|           Allerdale|     96422|\n",
      "|        Amber Valley|    122309|\n",
      "|                Arun|    149518|\n",
      "|            Ashfield|    119497|\n",
      "|             Ashford|    117956|\n",
      "|      Aylesbury Vale|    174137|\n",
      "|             Babergh|     87740|\n",
      "|Barking and Dagenham|    185911|\n",
      "|              Barnet|    356386|\n",
      "|            Barnsley|    231221|\n",
      "|   Barrow-in-Furness|     69087|\n",
      "|            Basildon|    174497|\n",
      "|Basingstoke and D...|    167799|\n",
      "|           Bassetlaw|    112863|\n",
      "|Bath and North Ea...|    176016|\n",
      "|             Bedford|    157479|\n",
      "|              Bexley|    231997|\n",
      "|          Birmingham|   1073045|\n",
      "|               Blaby|     93915|\n",
      "+--------------------+----------+\n",
      "only showing top 20 rows\n",
      "\n"
     ]
    }
   ],
   "source": [
    "locations.show() #check cols"
   ]
  },
  {
   "cell_type": "code",
   "execution_count": 40,
   "metadata": {},
   "outputs": [
    {
     "data": {
      "text/plain": [
       "348"
      ]
     },
     "execution_count": 40,
     "metadata": {},
     "output_type": "execute_result"
    }
   ],
   "source": [
    "locations.count() #count locations"
   ]
  },
  {
   "cell_type": "markdown",
   "metadata": {},
   "source": [
    "### Join weapon crime and LSOA"
   ]
  },
  {
   "cell_type": "code",
   "execution_count": 41,
   "metadata": {},
   "outputs": [
    {
     "name": "stdout",
     "output_type": "stream",
     "text": [
      "+-------+---------+--------------------+\n",
      "|  Month|     LSOA|           CrimeType|\n",
      "+-------+---------+--------------------+\n",
      "|2011-09|E01014370|Public disorder a...|\n",
      "|2011-09|E01014473|Public disorder a...|\n",
      "|2011-09|E01014418|Public disorder a...|\n",
      "|2011-09|E01014690|Public disorder a...|\n",
      "|2011-09|E01014497|Public disorder a...|\n",
      "+-------+---------+--------------------+\n",
      "only showing top 5 rows\n",
      "\n"
     ]
    }
   ],
   "source": [
    "#Check weapon crime sub dataset \n",
    "weaponCrime.show(5)"
   ]
  },
  {
   "cell_type": "code",
   "execution_count": 42,
   "metadata": {},
   "outputs": [
    {
     "name": "stdout",
     "output_type": "stream",
     "text": [
      "+----------+-------------+------------+\n",
      "| Geography|GeographyCode|AllResidents|\n",
      "+----------+-------------+------------+\n",
      "|Darlington|    E01012334|        2466|\n",
      "|Darlington|    E01012335|        1383|\n",
      "|Darlington|    E01012366|        2008|\n",
      "|Darlington|    E01033481|        1364|\n",
      "|Darlington|    E01033482|        1621|\n",
      "+----------+-------------+------------+\n",
      "only showing top 5 rows\n",
      "\n"
     ]
    }
   ],
   "source": [
    "#check fields available in population dataset\n",
    "dfPop.show(5)"
   ]
  },
  {
   "cell_type": "code",
   "execution_count": 43,
   "metadata": {},
   "outputs": [],
   "source": [
    "#join datasets using fields containing LSOA code\n",
    "crimeJoinLocation = weaponCrime.join(dfPop, weaponCrime.LSOA == dfPop.GeographyCode)"
   ]
  },
  {
   "cell_type": "code",
   "execution_count": 44,
   "metadata": {},
   "outputs": [
    {
     "name": "stdout",
     "output_type": "stream",
     "text": [
      "root\n",
      " |-- Month: string (nullable = true)\n",
      " |-- LSOA: string (nullable = true)\n",
      " |-- CrimeType: string (nullable = true)\n",
      " |-- Geography: string (nullable = true)\n",
      " |-- GeographyCode: string (nullable = true)\n",
      " |-- AllResidents: integer (nullable = true)\n",
      "\n"
     ]
    }
   ],
   "source": [
    "crimeJoinLocation.printSchema() #check fields have joined"
   ]
  },
  {
   "cell_type": "code",
   "execution_count": 45,
   "metadata": {},
   "outputs": [],
   "source": [
    "#select only relevent fields for crimes and location names\n",
    "crimeLocation = crimeJoinLocation.select(\"Month\",\"Geography\",\"CrimeType\")"
   ]
  },
  {
   "cell_type": "code",
   "execution_count": 46,
   "metadata": {},
   "outputs": [
    {
     "name": "stdout",
     "output_type": "stream",
     "text": [
      "+-------+--------------------+--------------------+\n",
      "|  Month|           Geography|           CrimeType|\n",
      "+-------+--------------------+--------------------+\n",
      "|2011-11|Barking and Dagenham|Public disorder a...|\n",
      "|2012-01|Barking and Dagenham|Public disorder a...|\n",
      "|2012-02|Barking and Dagenham|Public disorder a...|\n",
      "|2012-02|Barking and Dagenham|Public disorder a...|\n",
      "|2012-07|Barking and Dagenham|Public disorder a...|\n",
      "|2012-10|Barking and Dagenham|Public disorder a...|\n",
      "|2013-03|Barking and Dagenham|Public disorder a...|\n",
      "|2014-12|Barking and Dagenham|Possession of wea...|\n",
      "|2015-03|Barking and Dagenham|Possession of wea...|\n",
      "|2016-06|Barking and Dagenham|Possession of wea...|\n",
      "|2016-08|Barking and Dagenham|Possession of wea...|\n",
      "|2017-08|Barking and Dagenham|Possession of wea...|\n",
      "|2017-08|Barking and Dagenham|Possession of wea...|\n",
      "|2018-05|Barking and Dagenham|Possession of wea...|\n",
      "|2012-03|              Barnet|Public disorder a...|\n",
      "|2012-06|              Barnet|Public disorder a...|\n",
      "|2012-11|              Barnet|Public disorder a...|\n",
      "|2013-04|              Barnet|Public disorder a...|\n",
      "|2015-05|              Barnet|Possession of wea...|\n",
      "|2016-07|              Barnet|Possession of wea...|\n",
      "+-------+--------------------+--------------------+\n",
      "only showing top 20 rows\n",
      "\n"
     ]
    }
   ],
   "source": [
    "crimeLocation.show()"
   ]
  },
  {
   "cell_type": "code",
   "execution_count": 47,
   "metadata": {},
   "outputs": [],
   "source": [
    "#group crime by local authority region name and count number of incidents\n",
    "weaponGroupByLocation = crimeLocation.groupBy(\"Geography\")\\\n",
    ".count()\\\n",
    ".sort(\"count\", ascending=False)"
   ]
  },
  {
   "cell_type": "code",
   "execution_count": 48,
   "metadata": {},
   "outputs": [
    {
     "name": "stdout",
     "output_type": "stream",
     "text": [
      "+-------------------+-----+\n",
      "|          Geography|count|\n",
      "+-------------------+-----+\n",
      "|         Birmingham| 9317|\n",
      "|         Manchester| 7552|\n",
      "|              Leeds| 5949|\n",
      "|          Liverpool| 5480|\n",
      "|        Westminster| 5390|\n",
      "|           Bradford| 4282|\n",
      "|         Nottingham| 4273|\n",
      "|            Lambeth| 4266|\n",
      "|          Sheffield| 3986|\n",
      "|          Leicester| 3945|\n",
      "|          Southwark| 3734|\n",
      "|             Camden| 3647|\n",
      "|              Brent| 3510|\n",
      "|            Cardiff| 3434|\n",
      "|          Islington| 3383|\n",
      "|         Uttlesford| 3265|\n",
      "|             Newham| 3231|\n",
      "|Newcastle upon Tyne| 3222|\n",
      "|      Tower Hamlets| 3218|\n",
      "|             Ealing| 3197|\n",
      "+-------------------+-----+\n",
      "only showing top 20 rows\n",
      "\n"
     ]
    }
   ],
   "source": [
    "weaponGroupByLocation.show() #check result"
   ]
  },
  {
   "cell_type": "code",
   "execution_count": 49,
   "metadata": {},
   "outputs": [],
   "source": [
    "#weaponGroupByLocation.count() #check count"
   ]
  },
  {
   "cell_type": "code",
   "execution_count": 50,
   "metadata": {},
   "outputs": [],
   "source": [
    "#rename columns ready for join later\n",
    "newColumns = [\"CrimeLocation\",\"WeaponCrimes\"]\n",
    "weaponGroupByLocationRn = weaponGroupByLocation.toDF(*newColumns)"
   ]
  },
  {
   "cell_type": "code",
   "execution_count": 51,
   "metadata": {},
   "outputs": [
    {
     "name": "stdout",
     "output_type": "stream",
     "text": [
      "+-------------------+------------+\n",
      "|      CrimeLocation|WeaponCrimes|\n",
      "+-------------------+------------+\n",
      "|         Birmingham|        9317|\n",
      "|         Manchester|        7552|\n",
      "|              Leeds|        5949|\n",
      "|          Liverpool|        5480|\n",
      "|        Westminster|        5390|\n",
      "|           Bradford|        4282|\n",
      "|         Nottingham|        4273|\n",
      "|            Lambeth|        4266|\n",
      "|          Sheffield|        3986|\n",
      "|          Leicester|        3945|\n",
      "|          Southwark|        3734|\n",
      "|             Camden|        3647|\n",
      "|              Brent|        3510|\n",
      "|            Cardiff|        3434|\n",
      "|          Islington|        3383|\n",
      "|         Uttlesford|        3265|\n",
      "|             Newham|        3231|\n",
      "|Newcastle upon Tyne|        3222|\n",
      "|      Tower Hamlets|        3218|\n",
      "|             Ealing|        3197|\n",
      "+-------------------+------------+\n",
      "only showing top 20 rows\n",
      "\n"
     ]
    }
   ],
   "source": [
    "weaponGroupByLocationRn.show() #check cols"
   ]
  },
  {
   "cell_type": "markdown",
   "metadata": {},
   "source": [
    "### Join Location Population dataframe and Location Crime count dataframe"
   ]
  },
  {
   "cell_type": "code",
   "execution_count": 52,
   "metadata": {},
   "outputs": [],
   "source": [
    "#Join on common field which is the Local Authority Region name (Geography and Location fields)\n",
    "weaponCrimeWithPopulation = weaponGroupByLocationRn.join(locations,locations.Location == weaponGroupByLocationRn.CrimeLocation)"
   ]
  },
  {
   "cell_type": "code",
   "execution_count": 53,
   "metadata": {},
   "outputs": [
    {
     "data": {
      "text/plain": [
       "DataFrame[CrimeLocation: string, WeaponCrimes: bigint, Location: string, Population: bigint]"
      ]
     },
     "execution_count": 53,
     "metadata": {},
     "output_type": "execute_result"
    }
   ],
   "source": [
    "weaponCrimeWithPopulation #check result"
   ]
  },
  {
   "cell_type": "code",
   "execution_count": 54,
   "metadata": {},
   "outputs": [],
   "source": [
    "#Select only the needed fields Location, Population and WeaponCrimes\n",
    "#Calculate resultant crime rate of population and crimes for number of crimes per 100,000 population\n",
    "weaponCrimeWithPopulationRatio = weaponCrimeWithPopulation.select(\"Location\",\"Population\",\"WeaponCrimes\",((weaponCrimeWithPopulation[\"WeaponCrimes\"]/weaponCrimeWithPopulation[\"Population\"])*100000))"
   ]
  },
  {
   "cell_type": "code",
   "execution_count": 55,
   "metadata": {},
   "outputs": [],
   "source": [
    "#rename cols\n",
    "newColumns = [\"Location\",\"Population\",\"WeaponCrimes\",\"CrimeRate\"]\n",
    "weaponCrimeWithPopulationRatioRn = weaponCrimeWithPopulationRatio.toDF(*newColumns)"
   ]
  },
  {
   "cell_type": "code",
   "execution_count": 56,
   "metadata": {},
   "outputs": [
    {
     "name": "stdout",
     "output_type": "stream",
     "text": [
      "+--------------------+----------+------------+------------------+\n",
      "|            Location|Population|WeaponCrimes|         CrimeRate|\n",
      "+--------------------+----------+------------+------------------+\n",
      "|           Worcester|     98768|        1214|1229.1430422809008|\n",
      "|           Charnwood|    166100|        1170| 704.3949428055389|\n",
      "|      North Kesteven|    107766|         224|207.85776590019114|\n",
      "|                Arun|    149518|        1023| 684.1985580331465|\n",
      "|       Epping Forest|    124659|         723| 579.9821914181888|\n",
      "|             Waveney|    115254|         939| 814.7222656046645|\n",
      "|              Stroud|    112779|         331| 293.4943562187996|\n",
      "|              Maldon|     61629|         169| 274.2215515422934|\n",
      "|          New Forest|    176462|         806| 456.7555621040224|\n",
      "|           Sedgemoor|    114588|         190|165.81142877090096|\n",
      "|           Guildford|    137183|         916| 667.7212191014922|\n",
      "|            Worthing|    104640|         823| 786.5061162079511|\n",
      "|             Fareham|    111581|         443|397.02099819861803|\n",
      "|              Bolton|    276786|        2533| 915.1474424284465|\n",
      "|Central Bedfordshire|    254381|         888| 349.0826751997987|\n",
      "|      North Tyneside|    200801|        1317| 655.8732277229695|\n",
      "|        Surrey Heath|     86144|         350|406.29643387815753|\n",
      "|      Wellingborough|     75356|         517| 686.0767556664367|\n",
      "|              Slough|    140205|        1522|1085.5532969580258|\n",
      "|          Spelthorne|     95598|         529|  553.358856879851|\n",
      "+--------------------+----------+------------+------------------+\n",
      "only showing top 20 rows\n",
      "\n"
     ]
    }
   ],
   "source": [
    "weaponCrimeWithPopulationRatioRn.show() #check new cols"
   ]
  },
  {
   "cell_type": "code",
   "execution_count": 57,
   "metadata": {},
   "outputs": [],
   "source": [
    "#round crime rate column to 2 decimal places\n",
    "weaponCrimeWithPopulationRatioRn = weaponCrimeWithPopulationRatioRn.withColumn(\"CrimeRate\", func.round(weaponCrimeWithPopulationRatioRn[\"CrimeRate\"],2))"
   ]
  },
  {
   "cell_type": "code",
   "execution_count": 58,
   "metadata": {},
   "outputs": [],
   "source": [
    "#convert to dataframe\n",
    "weaponWithPopulation_PD = weaponCrimeWithPopulationRatioRn.toPandas()\n",
    "#sort dataframe by highest crime rate\n",
    "weaponWithPopulation_PD = weaponWithPopulation_PD.sort_values(by='CrimeRate', ascending=False)"
   ]
  },
  {
   "cell_type": "code",
   "execution_count": 59,
   "metadata": {},
   "outputs": [],
   "source": [
    "weaponWithPopulation_PDBAR = weaponWithPopulation_PD.head(30) #take top 30 locations"
   ]
  },
  {
   "cell_type": "code",
   "execution_count": 60,
   "metadata": {},
   "outputs": [
    {
     "data": {
      "text/html": [
       "<div>\n",
       "<style scoped>\n",
       "    .dataframe tbody tr th:only-of-type {\n",
       "        vertical-align: middle;\n",
       "    }\n",
       "\n",
       "    .dataframe tbody tr th {\n",
       "        vertical-align: top;\n",
       "    }\n",
       "\n",
       "    .dataframe thead th {\n",
       "        text-align: right;\n",
       "    }\n",
       "</style>\n",
       "<table border=\"1\" class=\"dataframe\">\n",
       "  <thead>\n",
       "    <tr style=\"text-align: right;\">\n",
       "      <th></th>\n",
       "      <th>Location</th>\n",
       "      <th>Population</th>\n",
       "      <th>WeaponCrimes</th>\n",
       "      <th>CrimeRate</th>\n",
       "    </tr>\n",
       "  </thead>\n",
       "  <tbody>\n",
       "    <tr>\n",
       "      <th>324</th>\n",
       "      <td>City of London</td>\n",
       "      <td>7375</td>\n",
       "      <td>788</td>\n",
       "      <td>10684.75</td>\n",
       "    </tr>\n",
       "    <tr>\n",
       "      <th>32</th>\n",
       "      <td>Uttlesford</td>\n",
       "      <td>79443</td>\n",
       "      <td>3265</td>\n",
       "      <td>4109.86</td>\n",
       "    </tr>\n",
       "    <tr>\n",
       "      <th>189</th>\n",
       "      <td>Westminster</td>\n",
       "      <td>219396</td>\n",
       "      <td>5390</td>\n",
       "      <td>2456.74</td>\n",
       "    </tr>\n",
       "    <tr>\n",
       "      <th>72</th>\n",
       "      <td>Camden</td>\n",
       "      <td>220338</td>\n",
       "      <td>3647</td>\n",
       "      <td>1655.18</td>\n",
       "    </tr>\n",
       "    <tr>\n",
       "      <th>145</th>\n",
       "      <td>Islington</td>\n",
       "      <td>206125</td>\n",
       "      <td>3383</td>\n",
       "      <td>1641.24</td>\n",
       "    </tr>\n",
       "    <tr>\n",
       "      <th>126</th>\n",
       "      <td>Crawley</td>\n",
       "      <td>106597</td>\n",
       "      <td>1710</td>\n",
       "      <td>1604.17</td>\n",
       "    </tr>\n",
       "    <tr>\n",
       "      <th>257</th>\n",
       "      <td>Hammersmith and Fulham</td>\n",
       "      <td>182493</td>\n",
       "      <td>2759</td>\n",
       "      <td>1511.84</td>\n",
       "    </tr>\n",
       "    <tr>\n",
       "      <th>30</th>\n",
       "      <td>Manchester</td>\n",
       "      <td>503127</td>\n",
       "      <td>7552</td>\n",
       "      <td>1501.01</td>\n",
       "    </tr>\n",
       "    <tr>\n",
       "      <th>267</th>\n",
       "      <td>Ipswich</td>\n",
       "      <td>133384</td>\n",
       "      <td>1974</td>\n",
       "      <td>1479.94</td>\n",
       "    </tr>\n",
       "    <tr>\n",
       "      <th>45</th>\n",
       "      <td>Lambeth</td>\n",
       "      <td>303086</td>\n",
       "      <td>4266</td>\n",
       "      <td>1407.52</td>\n",
       "    </tr>\n",
       "    <tr>\n",
       "      <th>190</th>\n",
       "      <td>Lincoln</td>\n",
       "      <td>93541</td>\n",
       "      <td>1311</td>\n",
       "      <td>1401.52</td>\n",
       "    </tr>\n",
       "    <tr>\n",
       "      <th>299</th>\n",
       "      <td>Nottingham</td>\n",
       "      <td>305680</td>\n",
       "      <td>4273</td>\n",
       "      <td>1397.87</td>\n",
       "    </tr>\n",
       "    <tr>\n",
       "      <th>227</th>\n",
       "      <td>Stevenage</td>\n",
       "      <td>83957</td>\n",
       "      <td>1137</td>\n",
       "      <td>1354.26</td>\n",
       "    </tr>\n",
       "    <tr>\n",
       "      <th>109</th>\n",
       "      <td>Exeter</td>\n",
       "      <td>117773</td>\n",
       "      <td>1580</td>\n",
       "      <td>1341.56</td>\n",
       "    </tr>\n",
       "    <tr>\n",
       "      <th>192</th>\n",
       "      <td>Southwark</td>\n",
       "      <td>288283</td>\n",
       "      <td>3734</td>\n",
       "      <td>1295.26</td>\n",
       "    </tr>\n",
       "    <tr>\n",
       "      <th>105</th>\n",
       "      <td>Tower Hamlets</td>\n",
       "      <td>254096</td>\n",
       "      <td>3218</td>\n",
       "      <td>1266.45</td>\n",
       "    </tr>\n",
       "    <tr>\n",
       "      <th>226</th>\n",
       "      <td>Southampton</td>\n",
       "      <td>236882</td>\n",
       "      <td>2976</td>\n",
       "      <td>1256.32</td>\n",
       "    </tr>\n",
       "    <tr>\n",
       "      <th>0</th>\n",
       "      <td>Worcester</td>\n",
       "      <td>98768</td>\n",
       "      <td>1214</td>\n",
       "      <td>1229.14</td>\n",
       "    </tr>\n",
       "    <tr>\n",
       "      <th>40</th>\n",
       "      <td>Kingston upon Hull</td>\n",
       "      <td>256406</td>\n",
       "      <td>3132</td>\n",
       "      <td>1221.50</td>\n",
       "    </tr>\n",
       "    <tr>\n",
       "      <th>119</th>\n",
       "      <td>Leicester</td>\n",
       "      <td>329839</td>\n",
       "      <td>3945</td>\n",
       "      <td>1196.04</td>\n",
       "    </tr>\n",
       "    <tr>\n",
       "      <th>309</th>\n",
       "      <td>Watford</td>\n",
       "      <td>90301</td>\n",
       "      <td>1066</td>\n",
       "      <td>1180.50</td>\n",
       "    </tr>\n",
       "    <tr>\n",
       "      <th>287</th>\n",
       "      <td>Portsmouth</td>\n",
       "      <td>205056</td>\n",
       "      <td>2418</td>\n",
       "      <td>1179.19</td>\n",
       "    </tr>\n",
       "    <tr>\n",
       "      <th>270</th>\n",
       "      <td>Liverpool</td>\n",
       "      <td>466415</td>\n",
       "      <td>5480</td>\n",
       "      <td>1174.92</td>\n",
       "    </tr>\n",
       "    <tr>\n",
       "      <th>191</th>\n",
       "      <td>Hackney</td>\n",
       "      <td>246270</td>\n",
       "      <td>2884</td>\n",
       "      <td>1171.07</td>\n",
       "    </tr>\n",
       "    <tr>\n",
       "      <th>46</th>\n",
       "      <td>Oxford</td>\n",
       "      <td>151906</td>\n",
       "      <td>1749</td>\n",
       "      <td>1151.37</td>\n",
       "    </tr>\n",
       "    <tr>\n",
       "      <th>264</th>\n",
       "      <td>Newcastle upon Tyne</td>\n",
       "      <td>280177</td>\n",
       "      <td>3222</td>\n",
       "      <td>1149.99</td>\n",
       "    </tr>\n",
       "    <tr>\n",
       "      <th>335</th>\n",
       "      <td>Lewisham</td>\n",
       "      <td>275885</td>\n",
       "      <td>3135</td>\n",
       "      <td>1136.34</td>\n",
       "    </tr>\n",
       "    <tr>\n",
       "      <th>151</th>\n",
       "      <td>Brent</td>\n",
       "      <td>311215</td>\n",
       "      <td>3510</td>\n",
       "      <td>1127.84</td>\n",
       "    </tr>\n",
       "    <tr>\n",
       "      <th>121</th>\n",
       "      <td>Salford</td>\n",
       "      <td>233933</td>\n",
       "      <td>2583</td>\n",
       "      <td>1104.16</td>\n",
       "    </tr>\n",
       "    <tr>\n",
       "      <th>240</th>\n",
       "      <td>Peterborough</td>\n",
       "      <td>183631</td>\n",
       "      <td>2012</td>\n",
       "      <td>1095.68</td>\n",
       "    </tr>\n",
       "  </tbody>\n",
       "</table>\n",
       "</div>"
      ],
      "text/plain": [
       "                   Location  Population  WeaponCrimes  CrimeRate\n",
       "324          City of London        7375           788   10684.75\n",
       "32               Uttlesford       79443          3265    4109.86\n",
       "189             Westminster      219396          5390    2456.74\n",
       "72                   Camden      220338          3647    1655.18\n",
       "145               Islington      206125          3383    1641.24\n",
       "126                 Crawley      106597          1710    1604.17\n",
       "257  Hammersmith and Fulham      182493          2759    1511.84\n",
       "30               Manchester      503127          7552    1501.01\n",
       "267                 Ipswich      133384          1974    1479.94\n",
       "45                  Lambeth      303086          4266    1407.52\n",
       "190                 Lincoln       93541          1311    1401.52\n",
       "299              Nottingham      305680          4273    1397.87\n",
       "227               Stevenage       83957          1137    1354.26\n",
       "109                  Exeter      117773          1580    1341.56\n",
       "192               Southwark      288283          3734    1295.26\n",
       "105           Tower Hamlets      254096          3218    1266.45\n",
       "226             Southampton      236882          2976    1256.32\n",
       "0                 Worcester       98768          1214    1229.14\n",
       "40       Kingston upon Hull      256406          3132    1221.50\n",
       "119               Leicester      329839          3945    1196.04\n",
       "309                 Watford       90301          1066    1180.50\n",
       "287              Portsmouth      205056          2418    1179.19\n",
       "270               Liverpool      466415          5480    1174.92\n",
       "191                 Hackney      246270          2884    1171.07\n",
       "46                   Oxford      151906          1749    1151.37\n",
       "264     Newcastle upon Tyne      280177          3222    1149.99\n",
       "335                Lewisham      275885          3135    1136.34\n",
       "151                   Brent      311215          3510    1127.84\n",
       "121                 Salford      233933          2583    1104.16\n",
       "240            Peterborough      183631          2012    1095.68"
      ]
     },
     "execution_count": 60,
     "metadata": {},
     "output_type": "execute_result"
    }
   ],
   "source": [
    "weaponWithPopulation_PDBAR #chceck results"
   ]
  },
  {
   "cell_type": "code",
   "execution_count": 61,
   "metadata": {},
   "outputs": [
    {
     "data": {
      "image/png": "[encoded data removed]",
      "text/plain": [
       "<Figure size 1080x432 with 1 Axes>"
      ]
     },
     "metadata": {
      "needs_background": "light"
     },
     "output_type": "display_data"
    }
   ],
   "source": [
    "#plot top 30 locations on barchart for comparisons\n",
    "#define data and rotate labels sideways\n",
    "weaponBarChart = weaponWithPopulation_PDBAR.plot.bar(x='Location', y='CrimeRate', rot=90)\n",
    "#define labels\n",
    "plt.ylabel(\"Number of Incidents per 100,000 Population\")\n",
    "plt.xlabel(\"Location\")\n",
    "plt.title(\"Chart Showing Locations and their Number of Firearms Related Incidents per 100,000 Population\")\n",
    "#display graph\n",
    "plt.show(block=False)\n",
    "pyplot.show()"
   ]
  },
  {
   "cell_type": "markdown",
   "metadata": {},
   "source": [
    "## Answer 2: There are more firearms incidents in Birmingham than anywhere in the UK\n",
    "\n",
    "To answer the second statement the populations of Local Authorities in the UK were calculated. The number of firearms related incidents for each local authority were also calculated. These figures were used to calculate rate of the population for the regions for example per 100,000 population.\n",
    "\n",
    "The final figure of **CrimeRate** is calculated by dividing the number of crimes by the total population and instead of multiplying by 100 to give a percentage (out of 100) has been multiplied by 100,000 to give the rate as a per 100,000 of the population instead of 100. The main reason for using 100,000 was because a traditional percentage would result in a very small number.\n",
    "\n",
    "One factor to consider is that the answer uses the number of crime incidents for weapons from the whole dataset as the statement made does not define a certain time frame or year. Therefore, cannot prove the statements made by Ross Kemp as true or false as we do not know which timeframe the results are based on. For example, one-year Birmingham may have the largest firearms incidents per head one year and the next year London may have a higher rate. Birmingham is known for high levels of gang crime says (Hales, Lewis and Silverstone, 2006), as a result this lends itself to high availability of firearms.\n",
    "\n",
    "As shown in the bar chart and table Birmingham is not in the top 30. However, it is not far from based on the population and crime count data frames Birmingham has one of the largest populations at 1073045 and the number of weapon crimes is at 9317 therefore the crime rate is 868 weapon related crimes per 100,000 population. This is just shy of the 1000’s which the top 30 regions lie within. Therefore, Birmingham is on the edge of the top 10% because the number of Local Authorities categorise into over 300 locations. \n",
    "\n",
    "Since the documentary was made 3 years ago and it did not specify a time it is possible that the data used was limited or did not contain the most recent published data. The results show that The City of London has the largest Violent Weapon crime rate this is possibly because of the growing population of London as estimated by (London City Hall, 2021) by 2020 there is estimated to be more Londoners than at any time in the city’s history."
   ]
  },
  {
   "cell_type": "markdown",
   "metadata": {},
   "source": [
    "### Group by month and count crimes for weapons and drugs sub datasets"
   ]
  },
  {
   "cell_type": "code",
   "execution_count": 62,
   "metadata": {},
   "outputs": [],
   "source": [
    "#group weapon related incidents by month and count for the number of incidents\n",
    "monthlyWeaponIncidents = weaponCrime.groupBy(\"Month\")\\\n",
    ".count()\\\n",
    ".sort(\"Month\", ascending=False) #sort descending"
   ]
  },
  {
   "cell_type": "code",
   "execution_count": 63,
   "metadata": {},
   "outputs": [],
   "source": [
    "#rename columns\n",
    "newColumns = [\"Month1\",\"WeaponIncidents\"]\n",
    "monthlyWeaponIncidentsRn = monthlyWeaponIncidents.toDF(*newColumns)"
   ]
  },
  {
   "cell_type": "code",
   "execution_count": 64,
   "metadata": {},
   "outputs": [
    {
     "name": "stdout",
     "output_type": "stream",
     "text": [
      "+-------+---------------+\n",
      "| Month1|WeaponIncidents|\n",
      "+-------+---------------+\n",
      "|2018-07|           3970|\n",
      "|2018-06|           3928|\n",
      "|2018-05|           4175|\n",
      "|2018-04|           3921|\n",
      "|2018-03|           3755|\n",
      "|2018-02|           3389|\n",
      "|2018-01|           3508|\n",
      "|2017-12|           3086|\n",
      "|2017-11|           3464|\n",
      "|2017-10|           3648|\n",
      "|2017-09|           3394|\n",
      "|2017-08|           3563|\n",
      "|2017-07|           3686|\n",
      "|2017-06|           3656|\n",
      "|2017-05|           3633|\n",
      "|2017-04|           3159|\n",
      "|2017-03|           3348|\n",
      "|2017-02|           2847|\n",
      "|2017-01|           2737|\n",
      "|2016-12|           2628|\n",
      "+-------+---------------+\n",
      "only showing top 20 rows\n",
      "\n"
     ]
    }
   ],
   "source": [
    "monthlyWeaponIncidentsRn.show() #check output"
   ]
  },
  {
   "cell_type": "code",
   "execution_count": 65,
   "metadata": {},
   "outputs": [],
   "source": [
    "#group drug related incidents by month and count for the number of incidents\n",
    "monthlyDrugIncidents = drugCrime.groupBy(\"Month\")\\\n",
    ".count()\\\n",
    ".sort(\"Month\", ascending=False) #sort descending"
   ]
  },
  {
   "cell_type": "code",
   "execution_count": 66,
   "metadata": {},
   "outputs": [],
   "source": [
    "#rename columns\n",
    "newColumns = [\"Month2\",\"DrugIncidents\"]\n",
    "monthlyDrugIncidentsRn = monthlyDrugIncidents.toDF(*newColumns)"
   ]
  },
  {
   "cell_type": "code",
   "execution_count": 67,
   "metadata": {},
   "outputs": [
    {
     "name": "stdout",
     "output_type": "stream",
     "text": [
      "+-------+-------------+\n",
      "| Month2|DrugIncidents|\n",
      "+-------+-------------+\n",
      "|2018-07|        11076|\n",
      "|2018-06|        11645|\n",
      "|2018-05|        12272|\n",
      "|2018-04|        12082|\n",
      "|2018-03|        11662|\n",
      "|2018-02|        11416|\n",
      "|2018-01|        12082|\n",
      "|2017-12|        11264|\n",
      "|2017-11|        12198|\n",
      "|2017-10|        12367|\n",
      "|2017-09|        11227|\n",
      "|2017-08|        12009|\n",
      "|2017-07|        11925|\n",
      "|2017-06|        10688|\n",
      "|2017-05|        11277|\n",
      "|2017-04|        10707|\n",
      "|2017-03|        11938|\n",
      "|2017-02|        10221|\n",
      "|2017-01|        10997|\n",
      "|2016-12|        11222|\n",
      "+-------+-------------+\n",
      "only showing top 20 rows\n",
      "\n"
     ]
    }
   ],
   "source": [
    "monthlyDrugIncidentsRn.show() #check output"
   ]
  },
  {
   "cell_type": "markdown",
   "metadata": {},
   "source": [
    "### Join Weapon and Drug monthly totals for scatter"
   ]
  },
  {
   "cell_type": "code",
   "execution_count": 68,
   "metadata": {},
   "outputs": [],
   "source": [
    "#join both the count of weapons and drugs dataframes so that both can be plotted on same graph\n",
    "#join by month1 and month2 which correspond to the same dates to show relation between crime types\n",
    "weaponDrugJoin = monthlyWeaponIncidentsRn.join(monthlyDrugIncidentsRn,monthlyWeaponIncidentsRn.Month1 == monthlyDrugIncidentsRn.Month2)"
   ]
  },
  {
   "cell_type": "code",
   "execution_count": 69,
   "metadata": {},
   "outputs": [
    {
     "name": "stdout",
     "output_type": "stream",
     "text": [
      "+-------+---------------+-------------+\n",
      "| Month1|WeaponIncidents|DrugIncidents|\n",
      "+-------+---------------+-------------+\n",
      "|2018-07|           3970|        11076|\n",
      "|2018-06|           3928|        11645|\n",
      "|2018-05|           4175|        12272|\n",
      "|2018-04|           3921|        12082|\n",
      "|2018-03|           3755|        11662|\n",
      "|2018-02|           3389|        11416|\n",
      "|2018-01|           3508|        12082|\n",
      "|2017-12|           3086|        11264|\n",
      "|2017-11|           3464|        12198|\n",
      "|2017-10|           3648|        12367|\n",
      "|2017-09|           3394|        11227|\n",
      "|2017-08|           3563|        12009|\n",
      "|2017-07|           3686|        11925|\n",
      "|2017-06|           3656|        10688|\n",
      "|2017-05|           3633|        11277|\n",
      "|2017-04|           3159|        10707|\n",
      "|2017-03|           3348|        11938|\n",
      "|2017-02|           2847|        10221|\n",
      "|2017-01|           2737|        10997|\n",
      "|2016-12|           2628|        11222|\n",
      "+-------+---------------+-------------+\n",
      "only showing top 20 rows\n",
      "\n"
     ]
    }
   ],
   "source": [
    "#select needed fields and sort by month\n",
    "weaponVsDrug = weaponDrugJoin.select(\"Month1\",\"WeaponIncidents\",\"DrugIncidents\").sort(\"Month1\", ascending=False)\n",
    "weaponVsDrug.show() #check output"
   ]
  },
  {
   "cell_type": "markdown",
   "metadata": {},
   "source": [
    "### Plot scatter of Weapons vs Drugs"
   ]
  },
  {
   "cell_type": "code",
   "execution_count": 70,
   "metadata": {},
   "outputs": [],
   "source": [
    "#convert to pandas\n",
    "weaponVsDrug_PD = weaponVsDrug.toPandas()"
   ]
  },
  {
   "cell_type": "code",
   "execution_count": 71,
   "metadata": {},
   "outputs": [],
   "source": [
    "#import statistics library\n",
    "from pyspark.mllib.regression import LabeledPoint, LinearRegressionWithSGD, LinearRegressionModel"
   ]
  },
  {
   "cell_type": "code",
   "execution_count": 73,
   "metadata": {},
   "outputs": [
    {
     "data": {
      "image/png": "[encoded data removed]",
      "text/plain": [
       "<Figure size 1080x432 with 1 Axes>"
      ]
     },
     "metadata": {
      "needs_background": "light"
     },
     "output_type": "display_data"
    }
   ],
   "source": [
    "#create scatterplot using weapon incidents as x and drug incidents as y axis\n",
    "sc1 = weaponVsDrug_PD.plot.scatter(x='WeaponIncidents', y='DrugIncidents', c='DarkBlue')"
   ]
  },
  {
   "cell_type": "code",
   "execution_count": 74,
   "metadata": {},
   "outputs": [
    {
     "data": {
      "image/png": "[encoded data removed]",
      "text/plain": [
       "<Figure size 1080x432 with 1 Axes>"
      ]
     },
     "metadata": {
      "needs_background": "light"
     },
     "output_type": "display_data"
    }
   ],
   "source": [
    "#use seaborn to get trendline\n",
    "import seaborn as sns\n",
    "#define x and y values and dataframe\n",
    "sc2 =sns.regplot(x='WeaponIncidents', y='DrugIncidents', data = weaponVsDrug_PD)\n",
    "#add labels\n",
    "plt.ylabel(\"Drug Offences\")\n",
    "plt.xlabel(\"Weapon Offences\")\n",
    "plt.title(\"Relationship between Violent Weapon and Drugs Offences\")\n",
    "#display graph\n",
    "plt.show(block=False)\n",
    "pyplot.show()"
   ]
  },
  {
   "cell_type": "markdown",
   "metadata": {},
   "source": [
    "### Calculate Correlation"
   ]
  },
  {
   "cell_type": "code",
   "execution_count": 75,
   "metadata": {},
   "outputs": [],
   "source": [
    "#Convert pandas columns to arrays\n",
    "\n",
    "#map weapons values to array\n",
    "weaponsCorr = weaponVsDrug.rdd.map(lambda v: v[1])\n",
    "\n",
    "#map drugs values to array\n",
    "drugsCorr = weaponVsDrug.rdd.map(lambda v: v[2])"
   ]
  },
  {
   "cell_type": "code",
   "execution_count": 76,
   "metadata": {},
   "outputs": [
    {
     "name": "stdout",
     "output_type": "stream",
     "text": [
      "Weapons Vs Drugs : Pearson Correlation = 0.6585\n",
      "Weapons Vs Drugs : Spearman Correlation = 0.1575\n"
     ]
    }
   ],
   "source": [
    "#calculate and print pearson correlation\n",
    "\n",
    "corP = Statistics.corr(weaponsCorr,drugsCorr,\"pearson\") # default\n",
    "print(\"Weapons Vs Drugs : Pearson Correlation = %2.4f\" % corP)\n",
    "\n",
    "#calculate and print spearman correlation\n",
    "\n",
    "corS = Statistics.corr(weaponsCorr,drugsCorr,\"spearman\") # Need to specify\n",
    "print(\"Weapons Vs Drugs : Spearman Correlation = %2.4f\" % corS)"
   ]
  },
  {
   "cell_type": "markdown",
   "metadata": {},
   "source": [
    "## Answer 3: Crimes involving firearms are closely associated with drugs offences\n",
    "\n",
    "To produce the scatterplot shown the respective Drug offences and Violent Weapon offences data frames were grouped by the month and the number of crimes counted. Both resultant tables were then Joined by month to result in a data frame containing Month and the number of Weapons and Drugs related incidents. The numbers for weapons and drugs incidents were then plotted to show their relationship. \n",
    "\n",
    "As shown in the scatterplot there is an overall positive correlation as shown by the trend line. While the trend line ranges 13,000 to 17,000 on the y axis it spans across 1,000 to 12,000 approximately on the x axis. Since there is greater increase in x than y this shows that there is more substantial increase in Weapon offences than Drug offences. This suggests that drugs related offences have a higher impact on weapons incidents than weapon incidents have on drug offences. \n",
    "\n",
    "Further analysis that may be useful to undertake on the dataset could be to include further scatter plots for other comparisons between other crime types and weapon crimes to determine which has a larger relation to why weapons are carried or used. As suggested by a report from University College London (Marshall, Webb, Tilley and Dando, 2005), the most common crime type where guns are evident is robbery. As a result of this it may be useful to produce a scatterplot and correlation for Weapon offences and Robbery related offences.\n",
    "\n",
    "Further analysis was carried out by calculating the Pearson and spearman correlations. While there are various methods to use to calculate correlation of various accuracy depending on the data used, (Nolan, 2004) investigates using similar methodology to determine the relationship between population and crime. Positive correlation values indicate a positive relationship says (Nolan, 2004), which is the case for all methods of calculating correlation. These values define to what extent there is a relationship between Weapons and Drugs while different methods may produce different numbers they are all positive for a positive correlation. The final correlation values were 0.658 and 0.157 for the Pearson and Spearman correlations, respectively. This means that since these values are positive there is a slight positive correlation between Weapon and Drugs crimes."
   ]
  },
  {
   "cell_type": "markdown",
   "metadata": {},
   "source": [
    "## Assumptions and Limitations\n",
    "\n",
    "Some of the assumptions made because of limitations in the data provided include the substitution of weapon related incidents instead of firearms. This was because the big data available did not provide a crime type specifically for firearms and had no outcome data available, this meant there was no way to identify a suspected firearms incident. Another assumption made was that for statement one population has no impact on the increasing levels of crime. Furthermore, the population data provided was only for one given year and therefore when using population, it was assumed that population change from year to year has negligible impact on the results (United Kingdom population mid-year estimate - Office for National Statistics, 2021).\n"
   ]
  },
  {
   "cell_type": "markdown",
   "metadata": {},
   "source": [
    "## Further Analysis Recommendations\n",
    "\n",
    "The following are possible further routes of more detailed analysis that were out of the scope of the purpose of this report.\n",
    "\n",
    "Further analysis could also be made regarding the increase in violent crime while the line graph shows the increase in violent crime over time, it does not consider the changing population. As published by the Office for National Statistics (United Kingdom population mid-year estimate - Office for National Statistics, 2021), over the past 10 years there has been a steady small increase in population in the region of 1.15 Million. One way this could be considered when analysing the data is through plotting a population line or calculating crime as a ratio of population. While overall crime levels are very useful to determine need for officers and policing levels, having the option to look at the rate of crime will show if crime is increasing due to the population increasing or another factor.\n",
    "\n",
    "Another way that further analysis could have been carried out to compare violent crime across the towns and cities of the UK could be to map the data from the Violent Weapons Incidents, Population and Crime per 100,000 population data frame using libraries such as geopandas, map classify and leaflet this would allow for classification of crime rates across region to be colour coded using a key so that areas with a higher crime rate could be mapped out with darker colours. This visualisation method would greatly increase the ability to draw comparisons between different regions."
   ]
  },
  {
   "cell_type": "markdown",
   "metadata": {},
   "source": [
    "## Conclusions\n",
    "\n",
    "Overall, most comments made in the TV documentary by Ross Kemp were correct. However due to some limitations in the data available and not knowing if the same datasets were used and assumptions as previously stated were made, we cannot say if the statements were true of false. \n",
    "\n",
    "To start overall the analysis carried out showed a significant increase in overall violent crime levels which backs up the comments made in the TV documentary. Since this question only refers to crime and there is only one main dataset for crime in the UK it is likely that the outcome is accurate. While the analysis done in this report did not make use of population figures to calculate a total crimes per population the population change over the time was negligible (United Kingdom population mid-year estimate - Office for National Statistics, 2021), therefore there would be little change to the results.\n",
    "\n",
    "The analysis of the dataset also revealed that The City of London has the largest number of Weapon Crimes per 100,000 population. This does not match the statement made in the TV documentary that Birmingham has the largest number of Weapons incidents. However, the variance in this result may be due to the growing population of London (London City Hall, 2021). Since the statement made was based off data available 3-4 years ago and did not specify any timeframe this is likely the reason for the difference.\n",
    "\n",
    "Finally, to conclude the final statement made regarding the close relationship between drugs and firearms incidents could not be proved as the dataset used only labels overall weapon crime. However, comparing drugs and weapons incidents does show the same expected result that there is a relationship which is positive. This shows that where there is an increase in drug crime where there are higher levels of this weapon crime significantly increases in proportion."
   ]
  },
  {
   "cell_type": "markdown",
   "metadata": {},
   "source": [
    "# References\n",
    "\n",
    "Doorman, L. and Gravemeijer, K., 2008. Emergent modeling: discrete graphs to support the understanding of change and velocity. ZDM, 41(1-2), pp.199-211.\n",
    "\n",
    "Ellis, K., 2021. Crime In England And Wales - Office For National Statistics. [online] Ons.gov.uk. Available at: <https://www.ons.gov.uk/peoplepopulationandcommunity/crimeandjustice/bulletins/crimeinenglandandwales/yearendingjune2018> [Accessed 1 January 2021].\n",
    "\n",
    "Hales, G., Lewis, C. and Silverstone, D., 2006. Gun Crime: The Market In And Use Of Illegal Firearms. Home Office Research, Development and Statistics Directorate.\n",
    "\n",
    "Jain, A. and Bhatnagar, V., 2016. Crime Data Analysis Using Pig with Hadoop. Procedia Computer Science, 78, pp.571-578.\n",
    "\n",
    "London City Hall. 2021. A Growing Population. [online] Available at: <https://www.london.gov.uk/what-we-do/planning/london-plan/current-london-plan/london-plan-chapter-one-context-and-strategy-0> [Accessed 5 January 2021].\n",
    "\n",
    "Marshall, B., Webb, B., Tilley, N. and Dando, J., 2005. Rationalisation Of Current Research On Guns, Gangs And Other Weapons: Phase 1. [online] London: INSTITUTE OF CRIME SCIENCE, pp.p13-15. Available at: <http://www.nomsintranet.org.uk/roh/official-documents/Marshall_Webb_Tilly_gangs_and_guns_2005.pdf> [Accessed 1 January 2021].\n",
    "\n",
    "Nolan, J., 2004. Establishing the statistical relationship between population size and UCR crime rate: Its impact and implications. Journal of Criminal Justice, 32(6), pp.547-555.\n",
    "\n",
    "Nolan, J., 2004. Establishing the statistical relationship between population size and UCR crime rate: Its impact and implications. Journal of Criminal Justice, 32(6), pp.547-555.\n",
    "\n",
    "Ons.gov.uk. 2021. United Kingdom Population Mid-Year Estimate - Office For National Statistics. [online] Available at: <https://www.ons.gov.uk/peoplepopulationandcommunity/populationandmigration/populationestimates/timeseries/ukpop/pop> [Accessed 1 January 2021].\n",
    "\n",
    "Ross Kemp and The Armed Police, 2018. [TV programme] ITV."
   ]
  }
 ],
 "metadata": {
  "kernelspec": {
   "display_name": "Python 3",
   "language": "python",
   "name": "python3"
  },
  "language_info": {
   "codemirror_mode": {
    "name": "ipython",
    "version": 3
   },
   "file_extension": ".py",
   "mimetype": "text/x-python",
   "name": "python",
   "nbconvert_exporter": "python",
   "pygments_lexer": "ipython3",
   "version": "3.8.3"
  }
 },
 "nbformat": 4,
 "nbformat_minor": 4
}
